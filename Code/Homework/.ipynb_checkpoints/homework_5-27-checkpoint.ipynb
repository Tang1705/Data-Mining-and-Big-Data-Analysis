{
 "cells": [
  {
   "cell_type": "markdown",
   "metadata": {},
   "source": [
    "|TID|项集|\n",
    "|:---:|:---:|\n",
    "|1\t|{面包,牛奶}\n",
    "|2\t|{面包,尿布,啤酒,鸡蛋}|\n",
    "|3\t|{牛奶,尿布,啤酒,可乐}|\n",
    "|4\t|{面包,牛奶,尿布,啤酒}|\n",
    "|5\t|{面包,牛奶,尿布,可乐}|"
   ]
  },
  {
   "cell_type": "markdown",
   "metadata": {},
   "source": [
    "$supp(项集{啤酒，尿布，牛奶})=$"
   ]
  }
 ],
 "metadata": {
  "kernelspec": {
   "display_name": "Python 3",
   "language": "python",
   "name": "python3"
  },
  "language_info": {
   "codemirror_mode": {
    "name": "ipython",
    "version": 3
   },
   "file_extension": ".py",
   "mimetype": "text/x-python",
   "name": "python",
   "nbconvert_exporter": "python",
   "pygments_lexer": "ipython3",
   "version": "3.7.4"
  },
  "latex_envs": {
   "LaTeX_envs_menu_present": true,
   "autoclose": false,
   "autocomplete": true,
   "bibliofile": "biblio.bib",
   "cite_by": "apalike",
   "current_citInitial": 1,
   "eqLabelWithNumbers": true,
   "eqNumInitial": 1,
   "hotkeys": {
    "equation": "Ctrl-E",
    "itemize": "Ctrl-I"
   },
   "labels_anchors": false,
   "latex_user_defs": false,
   "report_style_numbering": false,
   "user_envs_cfg": false
  }
 },
 "nbformat": 4,
 "nbformat_minor": 2
}
