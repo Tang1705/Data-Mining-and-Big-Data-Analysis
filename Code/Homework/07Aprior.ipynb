{
 "cells": [
  {
   "cell_type": "code",
   "execution_count": 127,
   "metadata": {},
   "outputs": [],
   "source": [
    "def Aprior(data,supp):\n",
    "    if type(data)==list:\n",
    "        result={}\n",
    "        for i in data:\n",
    "            for j in i:\n",
    "                if len(result)==0:\n",
    "                    result[str(j)]=1\n",
    "                else:\n",
    "                    if str(j) in result.keys():\n",
    "                        result[str(j)]+=1\n",
    "                    else:\n",
    "                        result[str(j)]=1\n",
    "        return_1_result={}\n",
    "        for key,value in result.items():\n",
    "            if value>=supp:\n",
    "                 return_1_result[key]=value\n",
    "        _result=sorted(result)\n",
    "        _result_={}\n",
    "        for k in _result:\n",
    "            _result_[k]=result[k]\n",
    "        fre=list(_result_.keys())\n",
    "        new_data=[]\n",
    "        new_result={}\n",
    "        for i in range(len(fre)):\n",
    "            for j in range(i+1,len(fre)):\n",
    "                new_data.append([fre[i],fre[j]])\n",
    "        for i in data:\n",
    "            for j in new_data:\n",
    "                d = [False for c in j if c not in i]\n",
    "#                 print(i,j,d)\n",
    "                if len(d)==0:\n",
    "                    keyword=str(j[0])+','+str(j[1])\n",
    "                    if len(new_result)==0:\n",
    "                        new_result[keyword]=1\n",
    "                    else:\n",
    "                        if keyword not in new_result.keys():\n",
    "                            new_result[keyword]=1\n",
    "                        else:\n",
    "                            new_result[keyword]+=1\n",
    "        sorted_key=sorted(new_result)\n",
    "        return_2_result={}\n",
    "        for key in sorted_key:\n",
    "            if new_result[key]>=supp:\n",
    "                return_2_result[key]=new_result[key]\n",
    "        return _result_,return_2_result\n",
    "    else:\n",
    "        print(\"data format error\")"
   ]
  },
  {
   "cell_type": "code",
   "execution_count": 128,
   "metadata": {},
   "outputs": [],
   "source": [
    "data=[['I1','I2','I5'],['I2','I4'],['I2','I3'],['I1','I2','I4'],['I1','I3'],['I2','I3'],['I1','I3'],['I1','I2','I3','I5'],['I1','I2','I3']]"
   ]
  },
  {
   "cell_type": "code",
   "execution_count": 129,
   "metadata": {},
   "outputs": [],
   "source": [
    "r,nr=Aprior(data,2)"
   ]
  },
  {
   "cell_type": "code",
   "execution_count": 130,
   "metadata": {},
   "outputs": [
    {
     "data": {
      "text/plain": [
       "{'I1': 6, 'I2': 7, 'I3': 6, 'I4': 2, 'I5': 2}"
      ]
     },
     "execution_count": 130,
     "metadata": {},
     "output_type": "execute_result"
    }
   ],
   "source": [
    "r"
   ]
  },
  {
   "cell_type": "code",
   "execution_count": 131,
   "metadata": {},
   "outputs": [
    {
     "data": {
      "text/plain": [
       "{'I1,I2': 4, 'I1,I3': 4, 'I1,I5': 2, 'I2,I3': 4, 'I2,I4': 2, 'I2,I5': 2}"
      ]
     },
     "execution_count": 131,
     "metadata": {},
     "output_type": "execute_result"
    }
   ],
   "source": [
    "nr"
   ]
  },
  {
   "cell_type": "code",
   "execution_count": 2,
   "metadata": {},
   "outputs": [],
   "source": [
    "from akapriori import apriori"
   ]
  },
  {
   "cell_type": "code",
   "execution_count": 132,
   "metadata": {},
   "outputs": [
    {
     "name": "stdout",
     "output_type": "stream",
     "text": [
      "Collecting akapriori\n",
      "  Downloading akapriori-0.1.0.tar.gz (1.9 kB)\n",
      "Building wheels for collected packages: akapriori\n",
      "  Building wheel for akapriori (setup.py): started\n",
      "  Building wheel for akapriori (setup.py): finished with status 'done'\n",
      "  Created wheel for akapriori: filename=akapriori-0.1.0-py3-none-any.whl size=2328 sha256=73b9d7d7be9ddb92d6975155bd0f116956d743a1671358374f4fd2f0c3a96656\n",
      "  Stored in directory: c:\\users\\tq\\appdata\\local\\pip\\cache\\wheels\\79\\2f\\2a\\7d3c985d044f834811f6522d0f3adfee704bd0d9f443abaf54\n",
      "Successfully built akapriori\n",
      "Installing collected packages: akapriori\n",
      "Successfully installed akapriori-0.1.0\n",
      "Note: you may need to restart the kernel to use updated packages.\n"
     ]
    }
   ],
   "source": [
    "pip install akapriori"
   ]
  },
  {
   "cell_type": "code",
   "execution_count": 134,
   "metadata": {},
   "outputs": [],
   "source": [
    "dataset=[(\"apricot\",\"apple\",\"cherry\",\"plum\",\"banana\"),(\"strawberry\",\"plum\",\"cherry\"),(\"persimmon\",\"peach\",\"banana\",\"apple\"),(\"kiwifruit\",\"apple\",\"pear\"),(\"cherry\",\"pear\",\"banana\"),\n",
    "         (\"watermelon\",\"apple\"),(\"plum\",\"banana\"),(\"pear\",\"peach\",\"cherry\",\"banana\",\"apricot\"),\"pineapple\",\"apple\",\"plum\",(\"banana\",\"plum\",\"peach\"),(\"grape\",\"cherry\"),(\"mandarin\",\"plum\"),\n",
    "         (\"melon\",\"apple\",\"persimmon\",\"plum\"),(\"peach\",\"cherry\",\"apple\"),(\"apple\",\"mandarin\",\"plum\",\"persimmon\")]"
   ]
  },
  {
   "cell_type": "code",
   "execution_count": 4,
   "metadata": {},
   "outputs": [
    {
     "ename": "NameError",
     "evalue": "name 'dataset' is not defined",
     "output_type": "error",
     "traceback": [
      "\u001b[1;31m---------------------------------------------------------------------------\u001b[0m",
      "\u001b[1;31mNameError\u001b[0m                                 Traceback (most recent call last)",
      "\u001b[1;32m<ipython-input-4-048f3dee6254>\u001b[0m in \u001b[0;36m<module>\u001b[1;34m\u001b[0m\n\u001b[1;32m----> 1\u001b[1;33m \u001b[0mrules\u001b[0m\u001b[1;33m=\u001b[0m\u001b[0mapriori\u001b[0m\u001b[1;33m(\u001b[0m\u001b[0mdataset\u001b[0m\u001b[1;33m,\u001b[0m\u001b[0msupport\u001b[0m\u001b[1;33m=\u001b[0m\u001b[1;36m0.05\u001b[0m\u001b[1;33m,\u001b[0m\u001b[0mconfidence\u001b[0m\u001b[1;33m=\u001b[0m\u001b[1;36m0.3\u001b[0m\u001b[1;33m,\u001b[0m\u001b[0mlift\u001b[0m\u001b[1;33m=\u001b[0m\u001b[1;36m2\u001b[0m\u001b[1;33m)\u001b[0m\u001b[1;33m\u001b[0m\u001b[1;33m\u001b[0m\u001b[0m\n\u001b[0m\u001b[0;32m      2\u001b[0m \u001b[0mrules_sorted\u001b[0m\u001b[1;33m=\u001b[0m\u001b[0msorted\u001b[0m\u001b[1;33m(\u001b[0m\u001b[0mrules\u001b[0m\u001b[1;33m,\u001b[0m\u001b[0mkey\u001b[0m\u001b[1;33m=\u001b[0m\u001b[1;32mlambda\u001b[0m \u001b[0mx\u001b[0m\u001b[1;33m:\u001b[0m\u001b[1;33m[\u001b[0m\u001b[0mx\u001b[0m\u001b[1;33m[\u001b[0m\u001b[1;36m4\u001b[0m\u001b[1;33m]\u001b[0m\u001b[1;33m,\u001b[0m\u001b[0mx\u001b[0m\u001b[1;33m[\u001b[0m\u001b[1;36m3\u001b[0m\u001b[1;33m]\u001b[0m\u001b[1;33m,\u001b[0m\u001b[0mx\u001b[0m\u001b[1;33m[\u001b[0m\u001b[1;36m2\u001b[0m\u001b[1;33m]\u001b[0m\u001b[1;33m]\u001b[0m\u001b[1;33m,\u001b[0m\u001b[0mreverse\u001b[0m\u001b[1;33m=\u001b[0m\u001b[1;32mTrue\u001b[0m\u001b[1;33m)\u001b[0m\u001b[1;33m\u001b[0m\u001b[1;33m\u001b[0m\u001b[0m\n",
      "\u001b[1;31mNameError\u001b[0m: name 'dataset' is not defined"
     ]
    }
   ],
   "source": [
    "rules=apriori(dataset,support=0.05,confidence=0.3,lift=2)\n",
    "rules_sorted=sorted(rules,key=lambda x:[x[4],x[3],x[2]],reverse=True)"
   ]
  },
  {
   "cell_type": "code",
   "execution_count": null,
   "metadata": {},
   "outputs": [],
   "source": []
  }
 ],
 "metadata": {
  "kernelspec": {
   "display_name": "Python 3",
   "language": "python",
   "name": "python3"
  },
  "language_info": {
   "codemirror_mode": {
    "name": "ipython",
    "version": 3
   },
   "file_extension": ".py",
   "mimetype": "text/x-python",
   "name": "python",
   "nbconvert_exporter": "python",
   "pygments_lexer": "ipython3",
   "version": "3.7.4"
  },
  "latex_envs": {
   "LaTeX_envs_menu_present": true,
   "autoclose": false,
   "autocomplete": true,
   "bibliofile": "biblio.bib",
   "cite_by": "apalike",
   "current_citInitial": 1,
   "eqLabelWithNumbers": true,
   "eqNumInitial": 1,
   "hotkeys": {
    "equation": "Ctrl-E",
    "itemize": "Ctrl-I"
   },
   "labels_anchors": false,
   "latex_user_defs": false,
   "report_style_numbering": false,
   "user_envs_cfg": false
  }
 },
 "nbformat": 4,
 "nbformat_minor": 2
}
