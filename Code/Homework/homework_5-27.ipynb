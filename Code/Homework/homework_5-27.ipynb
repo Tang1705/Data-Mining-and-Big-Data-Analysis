{
 "cells": [
  {
   "cell_type": "markdown",
   "metadata": {},
   "source": [
    "|TID|项集|\n",
    "|:---:|:---:|\n",
    "|1\t|{面包,牛奶}\n",
    "|2\t|{面包,尿布,啤酒,鸡蛋}|\n",
    "|3\t|{牛奶,尿布,啤酒,可乐}|\n",
    "|4\t|{面包,牛奶,尿布,啤酒}|\n",
    "|5\t|{面包,牛奶,尿布,可乐}|"
   ]
  },
  {
   "cell_type": "markdown",
   "metadata": {},
   "source": [
    "$$supp(项集{啤酒，尿布，牛奶})=\\frac{2}{5}$$"
   ]
  },
  {
   "cell_type": "markdown",
   "metadata": {},
   "source": [
    "$$Min\\_Support=3$$\n",
    "\n",
    "|items|support|\n",
    "|---|---|\n",
    "|面包|4|\n",
    "|牛奶|4|\n",
    "|啤酒|3|\n",
    "|尿布|4|\n",
    "|可乐|2|"
   ]
  },
  {
   "cell_type": "markdown",
   "metadata": {},
   "source": [
    "|items|support|\n",
    "|---|---|\n",
    "|{面包，牛奶}|3|\n",
    "|{面包，啤酒}|2|\n",
    "|{面包，尿布}|3|\n",
    "|{牛奶，啤酒}|2|\n",
    "|{牛奶，尿布}|3|\n",
    "|{啤酒，尿布}|3|"
   ]
  },
  {
   "cell_type": "markdown",
   "metadata": {},
   "source": [
    "|items|support|\n",
    "|---|---|\n",
    "|{面包，牛奶，尿布}|2|\n",
    "|{面包，尿布，啤酒}|2|\n",
    "|{牛奶，尿布，啤酒}|2|"
   ]
  },
  {
   "cell_type": "code",
   "execution_count": 3,
   "metadata": {},
   "outputs": [],
   "source": [
    "import random\n",
    "import numpy as np\n",
    "\n",
    "class Association_rules:\n",
    "    def __init__(self,minSupport=0.4,minConfidence=0.5):\n",
    "        '''\n",
    "        minSuport:最小支持度\n",
    "        minConfidence:最小置信度\n",
    "        dataset:数据集\n",
    "        count:存放frequent itemsets 以及 support\n",
    "        associationRules:满足minConfidence的关联规则\n",
    "        num:元素数量\n",
    "        threshold = num*minSupport：由num和minSupport算出的阈值\n",
    "        '''\n",
    "        self.minSupport = minSupport\n",
    "        self.minConfidence = minConfidence\n",
    "        self.dataset = None\n",
    "        self.count = None\n",
    "        self.associationRules = None\n",
    "        self.num = 0\n",
    "        self.threshold = 0\n",
    " \n",
    "    #计算frequent itemset\n",
    "    def countItem(self,upDict,elength):\n",
    "        currentDict = {}\n",
    "        element = list(upDict.keys())\n",
    "        for i in range(len(element)-1):\n",
    "            for j in range(i+1,len(element)):\n",
    "                tmp=set()\n",
    "                if type(element[i])!=str:\n",
    "                    for k in range(len(element[i])):\n",
    "                        tmp.add(element[i][k])\n",
    "                else:\n",
    "                    tmp.add(element[i])\n",
    "                if type(element[j])!=str:\n",
    "                    for k in range(len(element[j])):\n",
    "                        if element[j][k] not in tmp:\n",
    "                            tmp.add(element[j][k])\n",
    "                else:\n",
    "                    if element[j] not in tmp:\n",
    "                        tmp.add(element[j])\n",
    "                if len(tmp) > elength:\n",
    "                    continue\n",
    "                if tmp in list(set(item) for item in currentDict.keys()):\n",
    "                    continue\n",
    "                for item in self.dataset:\n",
    "                    if tmp.issubset(set(item)):\n",
    "                        if tmp in list(set(item) for item in currentDict.keys()):\n",
    "                            currentDict[tuple(tmp)] += 1\n",
    "                        else:\n",
    "                            currentDict[tuple(tmp)] = 1\n",
    "                            \n",
    "        for item in list(currentDict.keys()):\n",
    "            if currentDict[item] < self.threshold:\n",
    "                del currentDict[item]\n",
    "        if len(list(currentDict.keys())) < 1:\n",
    "            return None\n",
    "        else:\n",
    "            return currentDict\n",
    " \n",
    "    #生成frequent itemsets\n",
    "    def fit(self,dataset):\n",
    "        self.dataset = dataset\n",
    "        count = []\n",
    "        count.append({})\n",
    "        for item in self.dataset:\n",
    "            for i in range(len(item)):\n",
    "                if item[i] in list(count[0].keys()):\n",
    "                    count[0][item[i]] += 1\n",
    "                else:\n",
    "                    count[0][item[i]] = 1\n",
    "                    self.num += 1\n",
    " \n",
    "        self.threshold = self.num * self.minSupport\n",
    " \n",
    "        for item in list(count[0].keys()):\n",
    "            if count[0][item] < self.threshold:\n",
    "                del count[0][item]\n",
    "                \n",
    "        i = 0\n",
    "        while(True):\n",
    "            if len(count[i]) < 2:\n",
    "                break\n",
    "            else:\n",
    "                tmp = self.countItem(count[i],i+2)\n",
    "                if tmp == None:\n",
    "                    break\n",
    "                else:\n",
    "                    count.append(tmp)\n",
    "                i += 1\n",
    " \n",
    "        self.count = count\n",
    " \n",
    "    #打印并返回frequent itemsets\n",
    "    def frequentItemsets(self):\n",
    "        #print('threshold:',self.threshold)\n",
    "        for item in self.count:\n",
    "            print(item)\n",
    "            print()\n",
    "        return self.count\n",
    " \n",
    "    #二进制法求每个itemset的所有子集\n",
    "    def subsets(self,itemset):\n",
    "        N = len(itemset)\n",
    "        subsets = []\n",
    "        for i in range(1,2**N-1):\n",
    "            tmp = []\n",
    "            for j in range(N):\n",
    "                if (i >> j) % 2 == 1:\n",
    "                    tmp.append(itemset[j])\n",
    "            subsets.append(tmp)\n",
    "        return subsets\n",
    " \n",
    "    #计算置信度。set = (X),set2 = (X^Y)\n",
    "    def countConfidence(self,set1,set2):\n",
    "        len1 = len(set1)\n",
    "        len2 = len(set2)\n",
    "        #去除元素位置干扰。例如：set2 = ('a','b'),而self.count中存储为('b','a')\n",
    "        if not tuple(set2) in self.count[len2-1].keys():\n",
    "            set2[0],set[1] = set2[1],set2[0]\n",
    "        #写代码的时候出现的疏忽，当元素只有一个时count中存储格式是str，而元素多于一个时格式是tuple\n",
    "        if len1 == 1:\n",
    "            return self.count[len2-1][tuple(set2)] / self.count[len1-1][set1[0]]\n",
    "        else:\n",
    "            if not tuple(set1) in self.count[len1-1].keys():\n",
    "                set1[0],set1[1] = set1[1],set1[0]\n",
    "            return self.count[len2-1][tuple(set2)] / self.count[len1-1][tuple(set1)] \n",
    " \n",
    "    def associationRule(self):\n",
    "        associationRules = []\n",
    "        for i in range(1,len(self.count)):\n",
    "            for itemset in list(self.count[i].keys()):\n",
    "                #用字典存每个itemset的关联规则\n",
    "                tmp = {}\n",
    "                #print(itemset)\n",
    "                subset = self.subsets(itemset)\n",
    "                #print(subset)\n",
    "                for i in range(len(subset)-1):\n",
    "                    for j in range(i+1,len(subset)):\n",
    "                        #判断subset[i]与subset[j]完整组成一个itemset，而且没有相同的元素\n",
    "                        if len(subset[i]) + len(subset[j]) == len(itemset) and len(set(subset[i]) & set(subset[j])) == 0:\n",
    "                            confidence = self.countConfidence(subset[i],itemset)\n",
    "                            #print(subset[i],' > ',subset[j],' ',confidence)\n",
    "                            if confidence > self.minConfidence:\n",
    "                                #生成相应键值对\n",
    "                                tmpstr = str(subset[i]) + ' > ' + str(subset[j])\n",
    "                                tmp[tmpstr] = confidence\n",
    "                            #将subset[i]与subset[j]反过来生成另外一个规则\n",
    "                            confidence = self.countConfidence(subset[j],itemset)\n",
    "                            #print(subset[j],' > ',subset[i],' ',confidence)\n",
    "                            if confidence > self.minConfidence:\n",
    "                                tmpstr = str(subset[j]) + ' > ' + str(subset[i])\n",
    "                                tmp[tmpstr] = confidence\n",
    "                if tmp.keys():\n",
    "                    associationRules.append(tmp)\n",
    "        for item in associationRules:\n",
    "            print(item)\n",
    "        return associationRules\n",
    "\n",
    "\n",
    "def set_data(num):\n",
    "    dataset = []\n",
    "    for i in range(num):\n",
    "        number = random.randint(1,5)\n",
    "        dataset.append(list(set(chr(ord('a')+random.randint(1,10)) for i in range(number))))\n",
    "    return dataset\n",
    "\n",
    "# if __name__ == '__main__':\n",
    "#     num = 10\n",
    "#     dataset = set_data(num)\n",
    "#     for item in dataset:\n",
    "#         print(item)\n",
    "#     ar = Association_rules()\n",
    "#     ar.fit(dataset)\n",
    "#     freItemsets = ar.frequentItemsets()\n",
    "#     associationRules = ar.associationRule()"
   ]
  },
  {
   "cell_type": "code",
   "execution_count": 4,
   "metadata": {},
   "outputs": [],
   "source": [
    "dataset=[['I1','I2','I5'],['I2','I4'],['I2','I3'],['I1','I2','I4'],['I1','I3'],['I2','I3'],['I1','I3'],['I1','I2','I3','I5'],['I1','I2','I3']]"
   ]
  },
  {
   "cell_type": "code",
   "execution_count": 5,
   "metadata": {},
   "outputs": [
    {
     "name": "stdout",
     "output_type": "stream",
     "text": [
      "{'I1': 6, 'I2': 7, 'I5': 2, 'I4': 2, 'I3': 6}\n",
      "\n",
      "{('I1', 'I2'): 4, ('I5', 'I1'): 2, ('I3', 'I1'): 4, ('I5', 'I2'): 2, ('I4', 'I2'): 2, ('I3', 'I2'): 4}\n",
      "\n",
      "{('I5', 'I1', 'I2'): 2, ('I3', 'I1', 'I2'): 2}\n",
      "\n",
      "{\"['I1'] > ['I2']\": 0.6666666666666666, \"['I2'] > ['I1']\": 0.5714285714285714}\n",
      "{\"['I5'] > ['I1']\": 1.0}\n",
      "{\"['I3'] > ['I1']\": 0.6666666666666666, \"['I1'] > ['I3']\": 0.6666666666666666}\n",
      "{\"['I5'] > ['I2']\": 1.0}\n",
      "{\"['I4'] > ['I2']\": 1.0}\n",
      "{\"['I3'] > ['I2']\": 0.6666666666666666, \"['I2'] > ['I3']\": 0.5714285714285714}\n",
      "{\"['I5'] > ['I1', 'I2']\": 1.0, \"['I5', 'I2'] > ['I1']\": 1.0, \"['I5', 'I1'] > ['I2']\": 1.0}\n"
     ]
    }
   ],
   "source": [
    "ar = Association_rules(minSupport=0.4)\n",
    "ar.fit(dataset)\n",
    "freItemsets = ar.frequentItemsets()\n",
    "associationRules = ar.associationRule()"
   ]
  },
  {
   "cell_type": "code",
   "execution_count": 166,
   "metadata": {},
   "outputs": [
    {
     "data": {
      "text/plain": [
       "[]"
      ]
     },
     "execution_count": 166,
     "metadata": {},
     "output_type": "execute_result"
    }
   ],
   "source": [
    "associationRules"
   ]
  },
  {
   "cell_type": "code",
   "execution_count": 9,
   "metadata": {},
   "outputs": [],
   "source": [
    "dataset=[['milk','beer','diapers'],['bread','butter','milk'],['milk','diapers','cookies'],['bread','butter','biscuits'],['beer','cookies','diapers'],['milk','diapers','bread','butter'],['bread','butter','diapers'],['beer','diapers'],['milk','diapers','bread','butter'],['beer','cookies']]"
   ]
  },
  {
   "cell_type": "code",
   "execution_count": null,
   "metadata": {},
   "outputs": [],
   "source": []
  },
  {
   "cell_type": "code",
   "execution_count": null,
   "metadata": {},
   "outputs": [],
   "source": []
  }
 ],
 "metadata": {
  "kernelspec": {
   "display_name": "Python 3",
   "language": "python",
   "name": "python3"
  },
  "language_info": {
   "codemirror_mode": {
    "name": "ipython",
    "version": 3
   },
   "file_extension": ".py",
   "mimetype": "text/x-python",
   "name": "python",
   "nbconvert_exporter": "python",
   "pygments_lexer": "ipython3",
   "version": "3.7.4"
  },
  "latex_envs": {
   "LaTeX_envs_menu_present": true,
   "autoclose": false,
   "autocomplete": true,
   "bibliofile": "biblio.bib",
   "cite_by": "apalike",
   "current_citInitial": 1,
   "eqLabelWithNumbers": true,
   "eqNumInitial": 1,
   "hotkeys": {
    "equation": "Ctrl-E",
    "itemize": "Ctrl-I"
   },
   "labels_anchors": false,
   "latex_user_defs": false,
   "report_style_numbering": false,
   "user_envs_cfg": false
  }
 },
 "nbformat": 4,
 "nbformat_minor": 2
}
