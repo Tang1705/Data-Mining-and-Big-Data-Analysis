{
 "cells": [
  {
   "cell_type": "markdown",
   "metadata": {},
   "source": [
    "# 1  线性回归"
   ]
  },
  {
   "cell_type": "markdown",
   "metadata": {},
   "source": [
    "## 一元线性回归"
   ]
  },
  {
   "cell_type": "code",
   "execution_count": 2,
   "metadata": {},
   "outputs": [],
   "source": [
    "import matplotlib.pyplot as plt\n",
    "from sklearn import linear_model\n",
    "import pandas as pd "
   ]
  },
  {
   "cell_type": "code",
   "execution_count": 4,
   "metadata": {},
   "outputs": [
    {
     "data": {
      "text/plain": [
       "array([171.42016807])"
      ]
     },
     "execution_count": 4,
     "metadata": {},
     "output_type": "execute_result"
    }
   ],
   "source": [
    "x=[154,157,158,159,160,161,162,163]\n",
    "y=[155,156,159,162,161,164,165,166]\n",
    "regr=linear_model.LinearRegression()\n",
    "x=pd.DataFrame(x)\n",
    "regr.fit(x.values.reshape(-1,1),y)\n",
    "# 方法一\n",
    "new_r=regr.predict([[167]]) # 修改预测值\n",
    "# 方法二\n",
    "# alpha=regr.intercept_ # 截距\n",
    "# beta=regr.coef_ # 回归系数\n",
    "# new_r=alpha+beta*np.array([167])\n",
    "new_r"
   ]
  },
  {
   "cell_type": "code",
   "execution_count": 5,
   "metadata": {},
   "outputs": [],
   "source": [
    "# 划分训练集和测试集\n",
    "from sklearn.model_selection import train_test_split\n",
    "X_train,X_test,Y_train,Y_test = train_test_split(x,y,train_size=.8)"
   ]
  },
  {
   "cell_type": "markdown",
   "metadata": {},
   "source": [
    "# 2 数据清洗"
   ]
  },
  {
   "cell_type": "markdown",
   "metadata": {},
   "source": [
    "## 删除"
   ]
  },
  {
   "cell_type": "code",
   "execution_count": 6,
   "metadata": {},
   "outputs": [],
   "source": [
    "data=pd.read_csv(\"homework_3.csv\")\n",
    "# 删除nan 所在行\n",
    "data1=data.dropna()\n",
    "# 删除nan 所在列\n",
    "data2=data.dropna(axis=1)"
   ]
  },
  {
   "cell_type": "markdown",
   "metadata": {},
   "source": [
    "## 填补"
   ]
  },
  {
   "cell_type": "code",
   "execution_count": 7,
   "metadata": {},
   "outputs": [],
   "source": [
    "# 用0填充缺省值\n",
    "data3=data.fillna(0)\n",
    "# 用上一个数据填充缺省值\n",
    "data4=data.fillna(method=\"pad\")\n",
    "# 用平均值填充缺省值\n",
    "data5=data.fillna(data.mean())"
   ]
  },
  {
   "cell_type": "markdown",
   "metadata": {},
   "source": [
    "# 3 Pandas"
   ]
  },
  {
   "cell_type": "markdown",
   "metadata": {},
   "source": [
    "## Series"
   ]
  },
  {
   "cell_type": "code",
   "execution_count": 8,
   "metadata": {},
   "outputs": [],
   "source": [
    "# 创建 Series 对象\n",
    "data = pd.Series([0.25, 0.5, 0.75, 1.0])\n",
    "population_dict = {'California': 38332521,\n",
    "'Texas': 26448193,\n",
    "'New York': 19651127,\n",
    "'Florida': 19552860,\n",
    "'Illinois': 12882135}\n",
    "# Series 对象\n",
    "population = pd.Series(population_dict)"
   ]
  },
  {
   "cell_type": "markdown",
   "metadata": {},
   "source": [
    "## DataFrame"
   ]
  },
  {
   "cell_type": "code",
   "execution_count": 9,
   "metadata": {},
   "outputs": [],
   "source": [
    "area_dict = {'California': 423967, 'Texas': 695662, 'New York': 141297,'Florida': 170312, 'Illinois': 149995}\n",
    "area = pd.Series(area_dict)\n",
    "states = pd.DataFrame({'population': population,'area': area})"
   ]
  },
  {
   "cell_type": "markdown",
   "metadata": {},
   "source": [
    "# 4 欧式距离"
   ]
  },
  {
   "cell_type": "code",
   "execution_count": 11,
   "metadata": {},
   "outputs": [],
   "source": [
    "def Euclidean_Dist(X,Y):\n",
    "    return math.sqrt(sum([(x-y)**2 for (x,y) in zip(X,Y)]))"
   ]
  },
  {
   "cell_type": "markdown",
   "metadata": {},
   "source": [
    "# 5 KMeans"
   ]
  },
  {
   "cell_type": "code",
   "execution_count": 15,
   "metadata": {},
   "outputs": [],
   "source": [
    "from sklearn.cluster import KMeans\n",
    "import matplotlib.pyplot as plt\n",
    "import numpy as np"
   ]
  },
  {
   "cell_type": "code",
   "execution_count": 16,
   "metadata": {},
   "outputs": [
    {
     "data": {
      "image/png": "[encoded data removed]",
      "text/plain": [
       "<Figure size 432x288 with 1 Axes>"
      ]
     },
     "metadata": {
      "needs_background": "light"
     },
     "output_type": "display_data"
    }
   ],
   "source": [
    "center=np.array([[1,1],[2,1]])\n",
    "data=np.array([[1,1],[2,1],[4,3],[5,4]])\n",
    "\n",
    "KMeansCluster = KMeans(n_clusters=2)\n",
    "y2 = KMeansCluster.fit_predict(data)\n",
    "plt.scatter(data[:, 0], data[:, 1], marker='o',c=y2)\n",
    "plt.show()"
   ]
  },
  {
   "cell_type": "markdown",
   "metadata": {},
   "source": [
    "# 6 KNN"
   ]
  },
  {
   "cell_type": "markdown",
   "metadata": {},
   "source": [
    "## SKLearn"
   ]
  },
  {
   "cell_type": "code",
   "execution_count": 18,
   "metadata": {},
   "outputs": [],
   "source": [
    "import pandas as pd\n",
    "import numpy as np\n",
    "from sklearn.neighbors import KNeighborsClassifier\n",
    "from sklearn.cluster import KMeans\n",
    "from sklearn.preprocessing import StandardScaler\n",
    "from sklearn.model_selection import train_test_split"
   ]
  },
  {
   "cell_type": "code",
   "execution_count": 19,
   "metadata": {},
   "outputs": [],
   "source": [
    "wine = pd.read_csv(\"wine.csv\")\n",
    "\n",
    "exam_Y=wine.pop(\"Class\")\n",
    "X_train,X_test,Y_train,Y_test = train_test_split(wine,exam_Y,train_size=.7)"
   ]
  },
  {
   "cell_type": "code",
   "execution_count": 20,
   "metadata": {},
   "outputs": [],
   "source": [
    "# 数据归一\n",
    "transfer = StandardScaler()\n",
    "X_train = transfer.fit_transform(X_train)\n",
    "X_test = transfer.fit_transform(X_test)"
   ]
  },
  {
   "cell_type": "code",
   "execution_count": 21,
   "metadata": {},
   "outputs": [],
   "source": [
    "estimator = KNeighborsClassifier()\n",
    "estimator.fit(X_train,Y_train)\n",
    "predict=estimator.predict(X_test)"
   ]
  },
  {
   "cell_type": "code",
   "execution_count": 22,
   "metadata": {},
   "outputs": [
    {
     "data": {
      "text/plain": [
       "0.9629629629629629"
      ]
     },
     "execution_count": 22,
     "metadata": {},
     "output_type": "execute_result"
    }
   ],
   "source": [
    "estimator.score(X_test,Y_test)"
   ]
  },
  {
   "cell_type": "markdown",
   "metadata": {},
   "source": [
    "## 非 SKLearn"
   ]
  },
  {
   "cell_type": "code",
   "execution_count": 25,
   "metadata": {
    "scrolled": true
   },
   "outputs": [
    {
     "name": "stdout",
     "output_type": "stream",
     "text": [
      "[[1.  0.9]\n",
      " [1.  1. ]\n",
      " [0.1 0.2]\n",
      " [0.  0.1]]\n",
      "['A', 'A', 'B', 'B']\n",
      "[0.82462113 0.85440037 0.50990195 0.63245553]\n",
      "[2 3 0 1]\n",
      "B\n",
      "B\n",
      "A\n",
      "A\n",
      "{'B': 2, 'A': 2}\n",
      "Your input is: [0.2 0.7] and classified to class:  B\n"
     ]
    }
   ],
   "source": [
    "from numpy import *\n",
    "\n",
    "dataSet = array([[1.0, 0.9], [1.0, 1.0], [0.1, 0.2], [0.0, 0.1]])\n",
    "labels = ['A','A','B','B']\n",
    "print(dataSet)\n",
    "print(labels)\n",
    "\n",
    "numSamples = dataSet.shape[0]\n",
    "new_t = array([0.2,0.7]) # 新的样本点\n",
    "\n",
    "diff = tile(new_t,(numSamples,1))-dataSet\n",
    "squreDiff = diff**2\n",
    "squreDist = sum(squreDiff, axis=1)\n",
    "distance = squreDist ** 0.5\n",
    "print(distance)\n",
    "\n",
    "sortedDistIndices = argsort(distance)\n",
    "\n",
    "print(sortedDistIndices)\n",
    "classCount = {}\n",
    "K = 4\n",
    "for i in range(K):\n",
    "    voteLabel = labels[sortedDistIndices[i]]\n",
    "    print(voteLabel)\n",
    "    classCount[voteLabel] = classCount.get(voteLabel, 0) + 1\n",
    "print(classCount)\n",
    "\n",
    "maxCount = 0\n",
    "for k, v in classCount.items():\n",
    "    if v > maxCount:\n",
    "        maxCount = v\n",
    "        maxIndex = k\n",
    "\n",
    "print(\"Your input is:\", new_t, \"and classified to class: \", maxIndex)"
   ]
  },
  {
   "cell_type": "markdown",
   "metadata": {},
   "source": [
    "# 决策树"
   ]
  },
  {
   "cell_type": "markdown",
   "metadata": {},
   "source": [
    "## SKLearn"
   ]
  },
  {
   "cell_type": "code",
   "execution_count": 31,
   "metadata": {},
   "outputs": [],
   "source": [
    "from sklearn.tree import DecisionTreeClassifier\n",
    "from sklearn import datasets"
   ]
  },
  {
   "cell_type": "code",
   "execution_count": 32,
   "metadata": {},
   "outputs": [],
   "source": [
    "iris=datasets.load_iris()\n",
    "x=iris.data\n",
    "y=iris.target"
   ]
  },
  {
   "cell_type": "code",
   "execution_count": 34,
   "metadata": {},
   "outputs": [
    {
     "data": {
      "text/plain": [
       "DecisionTreeClassifier(ccp_alpha=0.0, class_weight=None, criterion='gini',\n",
       "                       max_depth=None, max_features=None, max_leaf_nodes=None,\n",
       "                       min_impurity_decrease=0.0, min_impurity_split=None,\n",
       "                       min_samples_leaf=1, min_samples_split=2,\n",
       "                       min_weight_fraction_leaf=0.0, presort='deprecated',\n",
       "                       random_state=None, splitter='best')"
      ]
     },
     "execution_count": 34,
     "metadata": {},
     "output_type": "execute_result"
    }
   ],
   "source": [
    "from sklearn.model_selection import train_test_split\n",
    "train_x,test_x,train_y,test_y=train_test_split(x,y,test_size=0.3,random_state=3)\n",
    "dt_model=DecisionTreeClassifier()\n",
    "dt_model.fit(train_x,train_y)"
   ]
  },
  {
   "cell_type": "code",
   "execution_count": 35,
   "metadata": {},
   "outputs": [],
   "source": [
    "predict_y=dt_model.predict(test_x)\n",
    "score=dt_model.score(test_x,test_y)"
   ]
  },
  {
   "cell_type": "markdown",
   "metadata": {},
   "source": [
    "## 自己实现"
   ]
  },
  {
   "cell_type": "code",
   "execution_count": 46,
   "metadata": {},
   "outputs": [
    {
     "data": {
      "text/plain": [
       "1.0"
      ]
     },
     "execution_count": 46,
     "metadata": {},
     "output_type": "execute_result"
    }
   ],
   "source": [
    "import pandas as pd\n",
    "import numpy as np\n",
    "from matplotlib import pyplot as plt\n",
    "%matplotlib inline\n",
    "\n",
    "#计算给定数据集的香浓熵\n",
    "from math import log\n",
    "\n",
    "def Ent(dataset):\n",
    "    n = len(dataset)\n",
    "    label_counts = {}\n",
    "    for item in dataset:\n",
    "        label_current = item[-1]\n",
    "        if label_current not in label_counts.keys():\n",
    "            label_counts[label_current] = 0\n",
    "        label_counts[label_current] += 1\n",
    "    ent = 0.0\n",
    "    for key in label_counts:\n",
    "        prob = label_counts[key]/n\n",
    "        ent -= prob * log(prob,2)\n",
    "    return ent\n",
    "\n",
    "#测试香浓熵计算函数\n",
    "data = pd.read_csv('5_20_data1.csv')\n",
    "Ent(data.iloc[:,-1])"
   ]
  },
  {
   "cell_type": "code",
   "execution_count": 37,
   "metadata": {},
   "outputs": [
    {
     "data": {
      "text/plain": [
       "0.20751874963942196"
      ]
     },
     "execution_count": 37,
     "metadata": {},
     "output_type": "execute_result"
    }
   ],
   "source": [
    "#按照权重计算各分支的信息熵\n",
    "def sum_weight(grouped,total_len):\n",
    "    weight = len(grouped)/total_len\n",
    "    return weight * Ent(grouped.iloc[:,-1])\n",
    "\n",
    "#根据公式计算信息增益\n",
    "def Gain(column, data):\n",
    "    lenth = len(data)\n",
    "    ent_sum = data.groupby(column).apply(lambda x:sum_weight(x,lenth)).sum() \n",
    "    ent_D = Ent(data.iloc[:,-1])\n",
    "    return ent_D - ent_sum\n",
    "\n",
    "#计算按照属性'收入'的信息增益\n",
    "Gain('Salary', data)"
   ]
  },
  {
   "cell_type": "code",
   "execution_count": 38,
   "metadata": {},
   "outputs": [
    {
     "data": {
      "text/plain": [
       "{'Age': {'30-40': 'Yes',\n",
       "  '<30': 'No',\n",
       "  '>40': {'Credit': {'Good': 'No', 'OK': 'Yes'}}}}"
      ]
     },
     "execution_count": 38,
     "metadata": {},
     "output_type": "execute_result"
    }
   ],
   "source": [
    "# 计算获取最大的信息增益的feature，输入data是一个dataframe，返回是一个字符串\n",
    "def get_max_gain(data):\n",
    "    max_gain = 0\n",
    "    cols = data.columns[:-1]\n",
    "    for col in cols:\n",
    "        gain = Gain(col,data)\n",
    "        if gain > max_gain:\n",
    "            max_gain = gain\n",
    "            max_label = col\n",
    "    return max_label\n",
    "\n",
    "#获取data中最多的类别作为节点分类，输入一个series，返回一个索引值，为字符串\n",
    "def get_most_label(label_list):\n",
    "    return label_list.value_counts().idxmax()\n",
    "\n",
    "# 创建决策树，传入的是一个dataframe，最后一列为label\n",
    "def TreeGenerate(data):\n",
    "    feature = data.columns[:-1]\n",
    "    label_list = data.iloc[:, -1]\n",
    "    #如果样本全属于同一类别C，将此节点标记为C类叶节点\n",
    "    if len(pd.unique(label_list)) == 1:\n",
    "        return label_list.values[0]\n",
    "    #如果待划分的属性集A为空，或者样本在属性A上取值相同，则把该节点作为叶节点，并标记为样本数最多的分类\n",
    "    elif len(feature)==0 or len(data.loc[:,feature].drop_duplicates())==1:\n",
    "        return get_most_label(label_list)\n",
    "    #从A中选择最优划分属性\n",
    "    best_attr = get_max_gain(data)\n",
    "    tree = {best_attr: {}}\n",
    "    #对于最优划分属性的每个属性值，生成一个分支\n",
    "    for attr,gb_data in data.groupby(by=best_attr):\n",
    "        if len(gb_data) == 0:\n",
    "            tree[best_attr][attr] = get_most_label(label_list)\n",
    "        else:\n",
    "            #在data中去掉已划分的属性\n",
    "            new_data = gb_data.drop(best_attr,axis=1)\n",
    "            #递归构造决策树\n",
    "            tree[best_attr][attr] = TreeGenerate(new_data)\n",
    "    return tree\n",
    "\n",
    "#得到经过训练后的决策树\n",
    "mytree = TreeGenerate(data)\n",
    "mytree"
   ]
  },
  {
   "cell_type": "code",
   "execution_count": 40,
   "metadata": {},
   "outputs": [
    {
     "data": {
      "text/plain": [
       "'Yes'"
      ]
     },
     "execution_count": 40,
     "metadata": {},
     "output_type": "execute_result"
    }
   ],
   "source": [
    "#使用递归函数进行分类\n",
    "def tree_predict(tree, data):\n",
    "    feature = list(tree.keys())[0]\n",
    "    label = data[feature]\n",
    "    next_tree = tree[feature][label]\n",
    "    if type(next_tree) == str:\n",
    "        return next_tree\n",
    "    else:\n",
    "        return tree_predict(next_tree, data)\n",
    "\n",
    "x={'Age':36,'Salary':'H','STU':'No','Credit':'OK'}\n",
    "\n",
    "if x['Age']<30:\n",
    "    x['Age']='<30'\n",
    "elif x['Age']>40:\n",
    "    x['Age']='>40'\n",
    "else:\n",
    "    x['Age']='30-40'\n",
    "y = tree_predict(mytree, x)\n",
    "y"
   ]
  },
  {
   "cell_type": "code",
   "execution_count": 41,
   "metadata": {},
   "outputs": [
    {
     "data": {
      "image/png": "[encoded data removed]",
      "text/plain": [
       "<Figure size 432x288 with 1 Axes>"
      ]
     },
     "metadata": {},
     "output_type": "display_data"
    }
   ],
   "source": [
    "#为了matplotlib中文正常显示，指定字体为SimHei\n",
    "plt.rcParams['font.sans-serif']=['SimHei'] \n",
    "plt.rcParams['font.family']='sans-serif'\n",
    "\n",
    "# 获取树的叶子节点数目\n",
    "def get_num_leafs(decision_tree):\n",
    "    num_leafs = 0\n",
    "    first_str = next(iter(decision_tree))\n",
    "    second_dict = decision_tree[first_str]\n",
    "    for k in second_dict.keys():\n",
    "        if isinstance(second_dict[k], dict):\n",
    "            num_leafs += get_num_leafs(second_dict[k])\n",
    "        else:\n",
    "            num_leafs += 1\n",
    "    return num_leafs\n",
    "\n",
    "# 获取树的深度\n",
    "def get_tree_depth(decision_tree):\n",
    "    max_depth = 0\n",
    "    first_str = next(iter(decision_tree))\n",
    "    second_dict = decision_tree[first_str]\n",
    "    for k in second_dict.keys():\n",
    "        if isinstance(second_dict[k], dict):\n",
    "            this_depth = 1 + get_tree_depth(second_dict[k])\n",
    "        else:\n",
    "            this_depth = 1\n",
    "        if this_depth > max_depth:\n",
    "            max_depth = this_depth\n",
    "    return max_depth\n",
    "\n",
    "# 绘制节点\n",
    "def plot_node(node_txt, center_pt, parent_pt, node_type):\n",
    "    arrow_args = dict(arrowstyle='<-')\n",
    "    create_plot.ax1.annotate(node_txt, xy=parent_pt,  xycoords='axes fraction', xytext=center_pt, textcoords='axes fraction', va=\"center\", ha=\"center\", bbox=node_type,arrowprops=arrow_args)\n",
    "\n",
    "# 标注划分属性\n",
    "def plot_mid_text(cntr_pt, parent_pt, txt_str):\n",
    "    x_mid = (parent_pt[0] - cntr_pt[0]) / 2.0 + cntr_pt[0]\n",
    "    y_mid = (parent_pt[1] - cntr_pt[1]) / 2.0 + cntr_pt[1]\n",
    "    create_plot.ax1.text(x_mid, y_mid, txt_str, va=\"center\", ha=\"center\", color='red')\n",
    "\n",
    "# 绘制决策树\n",
    "def plot_tree(decision_tree, parent_pt, node_txt):\n",
    "    d_node = dict(boxstyle=\"sawtooth\", fc=\"0.8\")\n",
    "    leaf_node = dict(boxstyle=\"round4\", fc='0.8')\n",
    "    num_leafs = get_num_leafs(decision_tree)\n",
    "    first_str = next(iter(decision_tree))\n",
    "    cntr_pt = (plot_tree.xoff + (1.0 +float(num_leafs))/2.0/plot_tree.totalW, plot_tree.yoff)\n",
    "    plot_mid_text(cntr_pt, parent_pt, node_txt)\n",
    "    plot_node(first_str, cntr_pt, parent_pt, d_node)\n",
    "    second_dict = decision_tree[first_str]\n",
    "    plot_tree.yoff = plot_tree.yoff - 1.0/plot_tree.totalD\n",
    "    for k in second_dict.keys():\n",
    "        if isinstance(second_dict[k], dict):\n",
    "            plot_tree(second_dict[k], cntr_pt, k)\n",
    "        else:\n",
    "            plot_tree.xoff = plot_tree.xoff + 1.0/plot_tree.totalW\n",
    "            plot_node(second_dict[k], (plot_tree.xoff, plot_tree.yoff), cntr_pt, leaf_node)\n",
    "            plot_mid_text((plot_tree.xoff, plot_tree.yoff), cntr_pt, k)\n",
    "    plot_tree.yoff = plot_tree.yoff + 1.0/plot_tree.totalD\n",
    "\n",
    "def create_plot(dtree):\n",
    "    fig = plt.figure(1, facecolor='white')\n",
    "    fig.clf()\n",
    "    axprops = dict(xticks=[], yticks=[])\n",
    "    create_plot.ax1 = plt.subplot(111, frameon=False, **axprops)\n",
    "    plot_tree.totalW = float(get_num_leafs(dtree))\n",
    "    plot_tree.totalD = float(get_tree_depth(dtree))\n",
    "    plot_tree.xoff = -0.5/plot_tree.totalW\n",
    "    plot_tree.yoff = 1.0\n",
    "    plot_tree(dtree, (0.5, 1.0), '')\n",
    "    plt.show()\n",
    "\n",
    "create_plot(mytree)"
   ]
  },
  {
   "cell_type": "code",
   "execution_count": 42,
   "metadata": {},
   "outputs": [],
   "source": [
    "dataSet = [ [0, 0, 0, 0, 'no'],                        #数据集\n",
    "            [0, 0, 0, 1, 'no'],\n",
    "            [0, 1, 0, 1, 'yes'],\n",
    "            [0, 1, 1, 0, 'yes'],\n",
    "            [0, 0, 0, 0, 'no'],\n",
    "            [1, 0, 0, 0, 'no'],\n",
    "            [1, 0, 0, 1, 'no'],\n",
    "            [1, 1, 1, 1, 'yes'],\n",
    "            [1, 0, 1, 2, 'yes'],\n",
    "            [1, 0, 1, 2, 'yes'],\n",
    "            [2, 0, 1, 2, 'yes'],\n",
    "            [2, 0, 1, 1, 'yes'],\n",
    "            [2, 1, 0, 1, 'yes'],\n",
    "            [2, 1, 0, 2, 'yes'],\n",
    "            [2, 0, 0, 0, 'no']]\n",
    "labels = ['年龄', '有工作', '有自己的房子', '信贷情况','label']  "
   ]
  },
  {
   "cell_type": "code",
   "execution_count": 43,
   "metadata": {},
   "outputs": [],
   "source": [
    "df=pd.DataFrame(dataSet,columns=labels)"
   ]
  },
  {
   "cell_type": "code",
   "execution_count": 44,
   "metadata": {},
   "outputs": [
    {
     "data": {
      "text/plain": [
       "{'有自己的房子': {0: {'有工作': {0: 'no', 1: 'yes'}}, 1: 'yes'}}"
      ]
     },
     "execution_count": 44,
     "metadata": {},
     "output_type": "execute_result"
    }
   ],
   "source": [
    "decisiontree = TreeGenerate(df)\n",
    "decisiontree"
   ]
  },
  {
   "cell_type": "markdown",
   "metadata": {},
   "source": [
    "# 关联规则"
   ]
  },
  {
   "cell_type": "code",
   "execution_count": 49,
   "metadata": {},
   "outputs": [],
   "source": [
    "import random\n",
    "import numpy as np\n",
    "\n",
    "class Association_rules:\n",
    "    def __init__(self,minSupport=0.4,minConfidence=0.5):\n",
    "        '''\n",
    "        minSuport:最小支持度\n",
    "        minConfidence:最小置信度\n",
    "        dataset:数据集\n",
    "        count:存放frequent itemsets 以及 support\n",
    "        associationRules:满足minConfidence的关联规则\n",
    "        num:元素数量\n",
    "        threshold = num*minSupport：由num和minSupport算出的阈值\n",
    "        '''\n",
    "        self.minSupport = minSupport\n",
    "        self.minConfidence = minConfidence\n",
    "        self.dataset = None\n",
    "        self.count = None\n",
    "        self.associationRules = None\n",
    "        self.num = 0\n",
    "        self.threshold = 0\n",
    " \n",
    "    #计算frequent itemset\n",
    "    def countItem(self,upDict,elength):\n",
    "        currentDict = {}\n",
    "        element = list(upDict.keys())\n",
    "        for i in range(len(element)-1):\n",
    "            for j in range(i+1,len(element)):\n",
    "                tmp=set()\n",
    "                if type(element[i])!=str:\n",
    "                    for k in range(len(element[i])):\n",
    "                        tmp.add(element[i][k])\n",
    "                else:\n",
    "                    tmp.add(element[i])\n",
    "                if type(element[j])!=str:\n",
    "                    for k in range(len(element[j])):\n",
    "                        if element[j][k] not in tmp:\n",
    "                            tmp.add(element[j][k])\n",
    "                else:\n",
    "                    if element[j] not in tmp:\n",
    "                        tmp.add(element[j])\n",
    "                if len(tmp) > elength:\n",
    "                    continue\n",
    "                if tmp in list(set(item) for item in currentDict.keys()):\n",
    "                    continue\n",
    "                for item in self.dataset:\n",
    "                    if tmp.issubset(set(item)):\n",
    "                        if tmp in list(set(item) for item in currentDict.keys()):\n",
    "                            currentDict[tuple(tmp)] += 1\n",
    "                        else:\n",
    "                            currentDict[tuple(tmp)] = 1\n",
    "                            \n",
    "        for item in list(currentDict.keys()):\n",
    "            if currentDict[item] < self.threshold:\n",
    "                del currentDict[item]\n",
    "        if len(list(currentDict.keys())) < 1:\n",
    "            return None\n",
    "        else:\n",
    "            return currentDict\n",
    " \n",
    "    #生成frequent itemsets\n",
    "    def fit(self,dataset):\n",
    "        self.dataset = dataset\n",
    "        count = []\n",
    "        count.append({})\n",
    "        for item in self.dataset:\n",
    "            for i in range(len(item)):\n",
    "                if item[i] in list(count[0].keys()):\n",
    "                    count[0][item[i]] += 1\n",
    "                else:\n",
    "                    count[0][item[i]] = 1\n",
    "                    self.num += 1\n",
    " \n",
    "        self.threshold = self.num * self.minSupport\n",
    " \n",
    "        for item in list(count[0].keys()):\n",
    "            if count[0][item] < self.threshold:\n",
    "                del count[0][item]\n",
    "                \n",
    "        i = 0\n",
    "        while(True):\n",
    "            if len(count[i]) < 2:\n",
    "                break\n",
    "            else:\n",
    "                tmp = self.countItem(count[i],i+2)\n",
    "                if tmp == None:\n",
    "                    break\n",
    "                else:\n",
    "                    count.append(tmp)\n",
    "                i += 1\n",
    " \n",
    "        self.count = count\n",
    " \n",
    "    #打印并返回frequent itemsets\n",
    "    def frequentItemsets(self):\n",
    "        #print('threshold:',self.threshold)\n",
    "        for item in self.count:\n",
    "            print(item)\n",
    "            print()\n",
    "        return self.count\n",
    " \n",
    "    #二进制法求每个itemset的所有子集\n",
    "    def subsets(self,itemset):\n",
    "        N = len(itemset)\n",
    "        subsets = []\n",
    "        for i in range(1,2**N-1):\n",
    "            tmp = []\n",
    "            for j in range(N):\n",
    "                if (i >> j) % 2 == 1:\n",
    "                    tmp.append(itemset[j])\n",
    "            subsets.append(tmp)\n",
    "        return subsets\n",
    " \n",
    "    #计算置信度。set = (X),set2 = (X^Y)\n",
    "    def countConfidence(self,set1,set2):\n",
    "        len1 = len(set1)\n",
    "        len2 = len(set2)\n",
    "        #去除元素位置干扰。例如：set2 = ('a','b'),而self.count中存储为('b','a')\n",
    "        if not tuple(set2) in self.count[len2-1].keys():\n",
    "            set2[0],set[1] = set2[1],set2[0]\n",
    "        #写代码的时候出现的疏忽，当元素只有一个时count中存储格式是str，而元素多于一个时格式是tuple\n",
    "        if len1 == 1:\n",
    "            return self.count[len2-1][tuple(set2)] / self.count[len1-1][set1[0]]\n",
    "        else:\n",
    "            if not tuple(set1) in self.count[len1-1].keys():\n",
    "                set1[0],set1[1] = set1[1],set1[0]\n",
    "            return self.count[len2-1][tuple(set2)] / self.count[len1-1][tuple(set1)] \n",
    " \n",
    "    def associationRule(self):\n",
    "        associationRules = []\n",
    "        for i in range(1,len(self.count)):\n",
    "            for itemset in list(self.count[i].keys()):\n",
    "                #用字典存每个itemset的关联规则\n",
    "                tmp = {}\n",
    "                #print(itemset)\n",
    "                subset = self.subsets(itemset)\n",
    "                #print(subset)\n",
    "                for i in range(len(subset)-1):\n",
    "                    for j in range(i+1,len(subset)):\n",
    "                        #判断subset[i]与subset[j]完整组成一个itemset，而且没有相同的元素\n",
    "                        if len(subset[i]) + len(subset[j]) == len(itemset) and len(set(subset[i]) & set(subset[j])) == 0:\n",
    "                            confidence = self.countConfidence(subset[i],itemset)\n",
    "                            #print(subset[i],' > ',subset[j],' ',confidence)\n",
    "                            if confidence > self.minConfidence:\n",
    "                                #生成相应键值对\n",
    "                                tmpstr = str(subset[i]) + ' > ' + str(subset[j])\n",
    "                                tmp[tmpstr] = confidence\n",
    "                            #将subset[i]与subset[j]反过来生成另外一个规则\n",
    "                            confidence = self.countConfidence(subset[j],itemset)\n",
    "                            #print(subset[j],' > ',subset[i],' ',confidence)\n",
    "                            if confidence > self.minConfidence:\n",
    "                                tmpstr = str(subset[j]) + ' > ' + str(subset[i])\n",
    "                                tmp[tmpstr] = confidence\n",
    "                if tmp.keys():\n",
    "                    associationRules.append(tmp)\n",
    "        for item in associationRules:\n",
    "            print(item)\n",
    "        return associationRules\n",
    "\n",
    "\n",
    "def set_data(num):\n",
    "    dataset = []\n",
    "    for i in range(num):\n",
    "        number = random.randint(1,5)\n",
    "        dataset.append(list(set(chr(ord('a')+random.randint(1,10)) for i in range(number))))\n",
    "    return dataset\n",
    "\n",
    "# if __name__ == '__main__':\n",
    "#     num = 10\n",
    "#     dataset = set_data(num)\n",
    "#     for item in dataset:\n",
    "#         print(item)\n",
    "#     ar = Association_rules()\n",
    "#     ar.fit(dataset)\n",
    "#     freItemsets = ar.frequentItemsets()\n",
    "#     associationRules = ar.associationRule()"
   ]
  },
  {
   "cell_type": "code",
   "execution_count": 50,
   "metadata": {},
   "outputs": [],
   "source": [
    "dataset=[['milk','beer','diapers'],['bread','butter','milk'],['milk','diapers','cookies'],['bread','butter','biscuits'],['beer','cookies','diapers'],['milk','diapers','bread','butter'],['bread','butter','diapers'],['beer','diapers'],['milk','diapers','bread','butter'],['beer','cookies']]"
   ]
  },
  {
   "cell_type": "code",
   "execution_count": 51,
   "metadata": {},
   "outputs": [
    {
     "name": "stdout",
     "output_type": "stream",
     "text": [
      "{'milk': 5, 'beer': 4, 'diapers': 7, 'bread': 5, 'butter': 5, 'cookies': 3}\n",
      "\n",
      "{('diapers', 'milk'): 4, ('bread', 'milk'): 3, ('butter', 'milk'): 3, ('diapers', 'beer'): 3, ('diapers', 'bread'): 3, ('diapers', 'butter'): 3, ('bread', 'butter'): 5}\n",
      "\n",
      "{('bread', 'butter', 'milk'): 3, ('diapers', 'bread', 'butter'): 3}\n",
      "\n",
      "{\"['diapers'] > ['milk']\": 0.5714285714285714, \"['milk'] > ['diapers']\": 0.8}\n",
      "{\"['bread'] > ['milk']\": 0.6, \"['milk'] > ['bread']\": 0.6}\n",
      "{\"['butter'] > ['milk']\": 0.6, \"['milk'] > ['butter']\": 0.6}\n",
      "{\"['beer'] > ['diapers']\": 0.75}\n",
      "{\"['bread'] > ['diapers']\": 0.6}\n",
      "{\"['butter'] > ['diapers']\": 0.6}\n",
      "{\"['bread'] > ['butter']\": 1.0, \"['butter'] > ['bread']\": 1.0}\n",
      "{\"['bread'] > ['butter', 'milk']\": 0.6, \"['butter', 'milk'] > ['bread']\": 1.0, \"['butter'] > ['bread', 'milk']\": 0.6, \"['bread', 'milk'] > ['butter']\": 1.0, \"['bread', 'butter'] > ['milk']\": 0.6, \"['milk'] > ['bread', 'butter']\": 0.6}\n",
      "{\"['bread', 'butter'] > ['diapers']\": 0.6, \"['bread'] > ['diapers', 'butter']\": 0.6, \"['diapers', 'butter'] > ['bread']\": 1.0, \"['diapers', 'bread'] > ['butter']\": 1.0, \"['butter'] > ['diapers', 'bread']\": 0.6}\n"
     ]
    }
   ],
   "source": [
    "ar = Association_rules(minSupport=0.4) # 调整支持度，置信度在上面第五行\n",
    "ar.fit(dataset)\n",
    "freItemsets = ar.frequentItemsets()\n",
    "associationRules = ar.associationRule()"
   ]
  },
  {
   "cell_type": "code",
   "execution_count": null,
   "metadata": {},
   "outputs": [],
   "source": []
  }
 ],
 "metadata": {
  "kernelspec": {
   "display_name": "Python 3",
   "language": "python",
   "name": "python3"
  },
  "language_info": {
   "codemirror_mode": {
    "name": "ipython",
    "version": 3
   },
   "file_extension": ".py",
   "mimetype": "text/x-python",
   "name": "python",
   "nbconvert_exporter": "python",
   "pygments_lexer": "ipython3",
   "version": "3.7.4"
  },
  "latex_envs": {
   "LaTeX_envs_menu_present": true,
   "autoclose": false,
   "autocomplete": true,
   "bibliofile": "biblio.bib",
   "cite_by": "apalike",
   "current_citInitial": 1,
   "eqLabelWithNumbers": true,
   "eqNumInitial": 1,
   "hotkeys": {
    "equation": "Ctrl-E",
    "itemize": "Ctrl-I"
   },
   "labels_anchors": false,
   "latex_user_defs": false,
   "report_style_numbering": false,
   "user_envs_cfg": false
  }
 },
 "nbformat": 4,
 "nbformat_minor": 2
}
